{
 "cells": [
  {
   "cell_type": "code",
   "execution_count": 6,
   "metadata": {},
   "outputs": [
    {
     "name": "stdout",
     "output_type": "stream",
     "text": [
      "1 0\n"
     ]
    }
   ],
   "source": [
    "# pass immutable: number, string, tuple\n",
    "a = 0\n",
    "def pass_something(value):\n",
    "    value += 1\n",
    "    #a += 1 error\n",
    "    return value\n",
    "print(pass_something(a), a)"
   ]
  },
  {
   "cell_type": "code",
   "execution_count": 5,
   "metadata": {},
   "outputs": [
    {
     "name": "stdout",
     "output_type": "stream",
     "text": [
      "[0, 1, 1] [0, 1, 1]\n"
     ]
    }
   ],
   "source": [
    "# pass mutable: list, set, dict\n",
    "b = [0]\n",
    "def pass_something_2(ref):\n",
    "    ref.append(1)\n",
    "    b.append(1)\n",
    "    return ref\n",
    "print(pass_something_2(b), b)"
   ]
  },
  {
   "cell_type": "code",
   "execution_count": 14,
   "metadata": {},
   "outputs": [
    {
     "name": "stdout",
     "output_type": "stream",
     "text": [
      "executing foo(<__main__.A object at 0x10ef689b0>,hello)\n",
      "executing class_foo(<class '__main__.A'>,world)\n",
      "executing static_foo(hello world)\n",
      "executing static_foo(hello world)\n"
     ]
    }
   ],
   "source": [
    "# class/static method\n",
    "class A(object):\n",
    "    def foo(self, x):\n",
    "        print(\"executing foo({0},{1})\".format(self, x))\n",
    "\n",
    "    @classmethod\n",
    "    def class_foo(cls,x):\n",
    "        print(\"executing class_foo({0},{1})\".format(cls, x))\n",
    "\n",
    "    @staticmethod\n",
    "    def static_foo(x):\n",
    "        print(\"executing static_foo({0})\".format(x))\n",
    "\n",
    "a=A()\n",
    "a.foo('hello')\n",
    "A.class_foo('world')\n",
    "a.static_foo('hello world')\n",
    "A.static_foo('hello world')\n"
   ]
  },
  {
   "cell_type": "code",
   "execution_count": 19,
   "metadata": {},
   "outputs": [
    {
     "name": "stdout",
     "output_type": "stream",
     "text": [
      "[1]\n"
     ]
    }
   ],
   "source": [
    "# class/instance Variables\n",
    "class TestClass1:\n",
    "    test1 = []\n",
    "    test2 = 'test'\n",
    "    def __init__(self, x, y):\n",
    "        self.test3 = []\n",
    "        self.test3.append(x)\n",
    "        self.test4 = y\n",
    "\n",
    "t1 = TestClass1(1, 'hello')\n",
    "t2 = TestClass1(2, 'world')\n",
    "t1.test1.append(1)\n",
    "print(t2.test1)"
   ]
  },
  {
   "cell_type": "code",
   "execution_count": 25,
   "metadata": {},
   "outputs": [
    {
     "name": "stdout",
     "output_type": "stream",
     "text": [
      "1\n",
      "3\n",
      "5\n"
     ]
    },
    {
     "ename": "StopIteration",
     "evalue": "",
     "output_type": "error",
     "traceback": [
      "\u001b[0;31m---------------------------------------------------------------------------\u001b[0m",
      "\u001b[0;31mStopIteration\u001b[0m                             Traceback (most recent call last)",
      "\u001b[0;32m<ipython-input-25-338495881cbc>\u001b[0m in \u001b[0;36m<module>\u001b[0;34m()\u001b[0m\n\u001b[1;32m      7\u001b[0m \u001b[0;32mfor\u001b[0m \u001b[0mi\u001b[0m \u001b[0;32min\u001b[0m \u001b[0modd_number_generator_1\u001b[0m\u001b[0;34m:\u001b[0m\u001b[0;34m\u001b[0m\u001b[0m\n\u001b[1;32m      8\u001b[0m     \u001b[0mprint\u001b[0m\u001b[0;34m(\u001b[0m\u001b[0mi\u001b[0m\u001b[0;34m)\u001b[0m\u001b[0;34m\u001b[0m\u001b[0m\n\u001b[0;32m----> 9\u001b[0;31m \u001b[0mprint\u001b[0m\u001b[0;34m(\u001b[0m\u001b[0mnext\u001b[0m\u001b[0;34m(\u001b[0m\u001b[0modd_number_generator_1\u001b[0m\u001b[0;34m)\u001b[0m\u001b[0;34m)\u001b[0m\u001b[0;34m\u001b[0m\u001b[0m\n\u001b[0m",
      "\u001b[0;31mStopIteration\u001b[0m: "
     ]
    }
   ],
   "source": [
    "# Generator: Save memory space\n",
    "def odd_number_generator():\n",
    "    for i in range(3):\n",
    "        yield 2 * i + 1\n",
    "\n",
    "odd_number_generator_1 = odd_number_generator()\n",
    "for i in odd_number_generator_1:\n",
    "    print(i)\n",
    "\n",
    "# Can only generate once, unlike the iterator\n",
    "print(next(odd_number_generator_1))"
   ]
  },
  {
   "cell_type": "code",
   "execution_count": 33,
   "metadata": {},
   "outputs": [],
   "source": [
    "def solution(A):\n",
    "    # write your code in Python 3.6\n",
    "    kind_fruit = 0\n",
    "    start = end = 0\n",
    "    fruits = {}\n",
    "    max_length = 0\n",
    "    while end < len(A):\n",
    "        if A[end] not in fruits:\n",
    "            if kind_fruit == 2:\n",
    "                max_length = max(max_length, end - start)\n",
    "                while kind_fruit == 2:\n",
    "                    fruits[A[start]] -= 1\n",
    "                    if fruits[A[start]] == 0:\n",
    "                        kind_fruit -= 1\n",
    "                        del fruits[A[start]]\n",
    "                    start += 1\n",
    "            kind_fruit += 1\n",
    "            fruits[A[end]] = 1\n",
    "        else:\n",
    "            fruits[A[end]] += 1\n",
    "        end += 1\n",
    "    return max(max_length, end - start)\n",
    "\n",
    "from collections import defaultdict\n",
    "def lengthOfLongestSublistTwoDistinct(nums):\n",
    "    numCnt = defaultdict(lambda: 0)\n",
    "    leftIdx, maxLen = 0, 0\n",
    "    for idx, num in enumerate(nums):\n",
    "        numCnt[num] += 1\n",
    "        while len(numCnt) > 2:\n",
    "            numCnt[nums[leftIdx]] -= 1\n",
    "            if numCnt[nums[leftIdx]] == 0:\n",
    "                del numCnt[nums[leftIdx]]\n",
    "            leftIdx += 1\n",
    "        maxLen = max(maxLen, idx - leftIdx + 1)\n",
    "    return maxLen\n",
    "\n",
    "from random import randint\n",
    "test_nums_length = [1,2,3,4,5,10,100,1000,10000,20000,100000]\n",
    "for t in test_nums_length:\n",
    "    tmp = []\n",
    "    for i in range(t):\n",
    "        tmp.append(randint(0,4))\n",
    "    assert(lengthOfLongestSublistTwoDistinct(tmp) == solution(tmp))"
   ]
  },
  {
   "cell_type": "markdown",
   "metadata": {},
   "source": [
    "## decorator\n",
    "Decorators are “wrappers”, which means that they let you execute code before and after the function they decorate without modifying the function itself.\n",
    "\n",
    "```\n",
    "@my_shiny_new_decorator\n",
    "def another_stand_alone_function():\n",
    "    ...\n",
    "```\n",
    "is equal to:\n",
    "```\n",
    "another_stand_alone_function = my_shiny_new_decorator(another_stand_alone_function)\n",
    "```"
   ]
  },
  {
   "cell_type": "code",
   "execution_count": 48,
   "metadata": {},
   "outputs": [
    {
     "name": "stdout",
     "output_type": "stream",
     "text": [
      "runtime...\n",
      "['a', 'b', 'c'] {}\n",
      "runtime: 4.206987796351314e-06\n",
      "[] {}\n",
      "None input!\n"
     ]
    }
   ],
   "source": [
    "# decorator\n",
    "def runtime_calculator(fn):\n",
    "    print('runtime...')\n",
    "    def wrapper(*args, **kwargs):\n",
    "        import timeit\n",
    "        start = timeit.default_timer()\n",
    "        fn(*args, **kwargs)\n",
    "        stop = timeit.default_timer()\n",
    "        print('runtime: {0}'.format(stop - start))\n",
    "    return wrapper\n",
    "    \n",
    "\n",
    "def none_checker(fn):\n",
    "    def wrapper(*args, **kwargs):\n",
    "        print(args[0], kwargs)\n",
    "        if not args[0]:\n",
    "            print('None input!')\n",
    "            return\n",
    "        fn(*args, **kwargs)\n",
    "    return wrapper\n",
    "\n",
    "@none_checker\n",
    "@runtime_calculator\n",
    "def foo(arr):\n",
    "    res = ''\n",
    "    for i in arr:\n",
    "        res += str(i)\n",
    "    return res\n",
    "\n",
    "foo(['a', 'b', 'c'])\n",
    "foo([])\n",
    "\n",
    "        \n",
    "    \n"
   ]
  },
  {
   "cell_type": "code",
   "execution_count": 54,
   "metadata": {},
   "outputs": [
    {
     "name": "stdout",
     "output_type": "stream",
     "text": [
      "<__main__.Singleton object at 0x10efbdd30>\n",
      "<__main__.Singleton object at 0x10efbdd30>\n"
     ]
    }
   ],
   "source": [
    "# new-style class: __new__ and __init__\n",
    "\n",
    "class Singleton(object):\n",
    "    _singletons = {}\n",
    "    def __new__(cls, *arg):\n",
    "        if cls not in cls._singletons:\n",
    "            cls._singletons[cls] = object.__new__(cls)\n",
    "        return cls._singletons[cls]\n",
    "    def __init__(self, num):\n",
    "        self.num = num\n",
    "\n",
    "single_1 = Singleton(1)\n",
    "single_1.num += 1\n",
    "print(single_1)\n",
    "single_2 = Singleton(5)\n",
    "print(single_2)"
   ]
  },
  {
   "cell_type": "code",
   "execution_count": 57,
   "metadata": {},
   "outputs": [
    {
     "name": "stdout",
     "output_type": "stream",
     "text": [
      "[1]\n",
      "[1, 1]\n",
      "[1, 2, 1]\n",
      "[1, 3, 3, 1]\n",
      "[1, 4, 6, 4, 1]\n",
      "[1, 5, 10, 10, 5, 1]\n",
      "[1, 6, 15, 20, 15, 6, 1]\n",
      "[1, 7, 21, 35, 35, 21, 7, 1]\n",
      "[1, 8, 28, 56, 70, 56, 28, 8, 1]\n",
      "[1, 9, 36, 84, 126, 126, 84, 36, 9, 1]\n"
     ]
    }
   ],
   "source": [
    "# yield triangle\n",
    "def print_triangle(n):\n",
    "    res = []\n",
    "    for i in range(n):\n",
    "        if i == 0:\n",
    "            tmp = [1]\n",
    "        elif i == 1:\n",
    "            tmp = [1, 1]\n",
    "        else:\n",
    "            tmp = [1]\n",
    "            for j in range(len(res) - 1):\n",
    "                tmp.append(res[j] + res[j + 1])\n",
    "            tmp.append(1)\n",
    "        res = tmp\n",
    "        yield(res)\n",
    "\n",
    "for i in print_triangle(10):\n",
    "    print(i)"
   ]
  },
  {
   "cell_type": "code",
   "execution_count": 58,
   "metadata": {},
   "outputs": [
    {
     "name": "stdout",
     "output_type": "stream",
     "text": [
      "DEF Inc\n"
     ]
    }
   ],
   "source": [
    "# Setter and Getter as list\n",
    "\n",
    "class Building(object):\n",
    "    def __init__(self, floors):\n",
    "        self._floors = [None]*floors\n",
    "    def __setitem__(self, floor_number, data):\n",
    "        self._floors[floor_number] = data\n",
    "    def __getitem__(self, floor_number):\n",
    "        return self._floors[floor_number]\n",
    "\n",
    "building1 = Building(4) # Construct a building with 4 floors\n",
    "building1[0] = 'Reception'\n",
    "building1[1] = 'ABC Corp'\n",
    "building1[2] = 'DEF Inc'\n",
    "print(building1[2])"
   ]
  },
  {
   "cell_type": "code",
   "execution_count": null,
   "metadata": {},
   "outputs": [],
   "source": []
  }
 ],
 "metadata": {
  "kernelspec": {
   "display_name": "Python 3",
   "language": "python",
   "name": "python3"
  },
  "language_info": {
   "codemirror_mode": {
    "name": "ipython",
    "version": 3
   },
   "file_extension": ".py",
   "mimetype": "text/x-python",
   "name": "python",
   "nbconvert_exporter": "python",
   "pygments_lexer": "ipython3",
   "version": "3.5.4"
  },
  "varInspector": {
   "cols": {
    "lenName": 16,
    "lenType": 16,
    "lenVar": 40
   },
   "kernels_config": {
    "python": {
     "delete_cmd_postfix": "",
     "delete_cmd_prefix": "del ",
     "library": "var_list.py",
     "varRefreshCmd": "print(var_dic_list())"
    },
    "r": {
     "delete_cmd_postfix": ") ",
     "delete_cmd_prefix": "rm(",
     "library": "var_list.r",
     "varRefreshCmd": "cat(var_dic_list()) "
    }
   },
   "types_to_exclude": [
    "module",
    "function",
    "builtin_function_or_method",
    "instance",
    "_Feature"
   ],
   "window_display": false
  }
 },
 "nbformat": 4,
 "nbformat_minor": 2
}
